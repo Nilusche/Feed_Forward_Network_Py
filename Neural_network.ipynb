{
  "nbformat": 4,
  "nbformat_minor": 0,
  "metadata": {
    "colab": {
      "name": "Neural_network.ipynb",
      "provenance": [],
      "toc_visible": true,
      "collapsed_sections": []
    },
    "kernelspec": {
      "name": "python3",
      "display_name": "Python 3"
    },
    "language_info": {
      "name": "python"
    }
  },
  "cells": [
    {
      "cell_type": "markdown",
      "source": [
        "By Nilusche Liyanaarachchi 2022"
      ],
      "metadata": {
        "id": "_ZkE03A90eIi"
      }
    },
    {
      "cell_type": "markdown",
      "source": [
        "# Feed-Forward-Network for recognition of handwritten numbers\n",
        "In this task the previous concept of a perceptron shall be used to construct a feed-forward-network.<br> The task of the network is to recognize handwritten number from 0 to 9 after beeing trained with the MNIST dataset, which consists of thousands of 28x28 grayscale images of handwritten numbers. <br>\n",
        "<br>\n",
        "The network shall be modelled so, that each pixel of the grayscale image is perceived by one perceptron on the inputlayer (I), thus 784 perceptrons are needed here. The hiddenlayer (H) shall have 200 perceptrons, followed by the outputlayer (O). Since we want to recognize the numbers from 0 to 9, the final output layer consists of 10 perceptrons. <br>\n",
        "\n"
      ],
      "metadata": {
        "id": "cy__eBfa1bXn"
      }
    },
    {
      "cell_type": "markdown",
      "source": [
        "# Install and import dependencies\n",
        "Once again we will need <a href=\"https://numpy.org/\">Numpy</a>.\n",
        "Additionally to plot samplepictures we will use <a href=\"https://matplotlib.org/\">Matplotlib</a>"
      ],
      "metadata": {
        "id": "ItOvC-vm3K10"
      }
    },
    {
      "cell_type": "code",
      "source": [
        "!pip install numpy\n",
        "!pip install matplotlib"
      ],
      "metadata": {
        "id": "K_evnsZ53yci",
        "colab": {
          "base_uri": "https://localhost:8080/"
        },
        "outputId": "f7d87a48-0b43-44a8-f076-d4c723e0b378"
      },
      "execution_count": 33,
      "outputs": [
        {
          "output_type": "stream",
          "name": "stdout",
          "text": [
            "Looking in indexes: https://pypi.org/simple, https://us-python.pkg.dev/colab-wheels/public/simple/\n",
            "Requirement already satisfied: numpy in /usr/local/lib/python3.7/dist-packages (1.21.6)\n",
            "Looking in indexes: https://pypi.org/simple, https://us-python.pkg.dev/colab-wheels/public/simple/\n",
            "Requirement already satisfied: matplotlib in /usr/local/lib/python3.7/dist-packages (3.2.2)\n",
            "Requirement already satisfied: kiwisolver>=1.0.1 in /usr/local/lib/python3.7/dist-packages (from matplotlib) (1.4.2)\n",
            "Requirement already satisfied: python-dateutil>=2.1 in /usr/local/lib/python3.7/dist-packages (from matplotlib) (2.8.2)\n",
            "Requirement already satisfied: cycler>=0.10 in /usr/local/lib/python3.7/dist-packages (from matplotlib) (0.11.0)\n",
            "Requirement already satisfied: numpy>=1.11 in /usr/local/lib/python3.7/dist-packages (from matplotlib) (1.21.6)\n",
            "Requirement already satisfied: pyparsing!=2.0.4,!=2.1.2,!=2.1.6,>=2.0.1 in /usr/local/lib/python3.7/dist-packages (from matplotlib) (3.0.9)\n",
            "Requirement already satisfied: typing-extensions in /usr/local/lib/python3.7/dist-packages (from kiwisolver>=1.0.1->matplotlib) (4.2.0)\n",
            "Requirement already satisfied: six>=1.5 in /usr/local/lib/python3.7/dist-packages (from python-dateutil>=2.1->matplotlib) (1.15.0)\n",
            "Looking in indexes: https://pypi.org/simple, https://us-python.pkg.dev/colab-wheels/public/simple/\n",
            "\u001b[31mERROR: Could not find a version that satisfies the requirement deepcopy (from versions: none)\u001b[0m\n",
            "\u001b[31mERROR: No matching distribution found for deepcopy\u001b[0m\n"
          ]
        }
      ]
    },
    {
      "cell_type": "code",
      "source": [
        "import numpy as np"
      ],
      "metadata": {
        "id": "T1CPyTW6324q"
      },
      "execution_count": 29,
      "outputs": []
    },
    {
      "cell_type": "code",
      "source": [
        "import matplotlib.pyplot as plt\n",
        "import random \n",
        "from copy import deepcopy"
      ],
      "metadata": {
        "id": "UX0CVLz73566"
      },
      "execution_count": 35,
      "outputs": []
    },
    {
      "cell_type": "markdown",
      "source": [
        "# Import the number MNIST dataset and preprocess the data\n",
        "We will use .csv-converted data from <a href=\"https://www.kaggle.com/datasets/oddrationale/mnist-in-csv\">Kaggle</a>. <br>\n",
        "The training set contains 60000 samples, the test set contains 20000 samples. <br>\n",
        "We will not be using all data."
      ],
      "metadata": {
        "id": "uTwkCUh94C3u"
      }
    },
    {
      "cell_type": "code",
      "source": [
        "training_data_file = open(\"drive/MyDrive/mnist_train.csv\", 'r')\n",
        "training_data_list = training_data_file.readlines()\n",
        "training_data_file.close()"
      ],
      "metadata": {
        "id": "OBYk2mHP4cCC"
      },
      "execution_count": null,
      "outputs": []
    },
    {
      "cell_type": "code",
      "source": [
        "test_data_file = open(\"drive/MyDrive/mnist_test.csv\", 'r')\n",
        "test_data_list = test_data_file.readlines()\n",
        "test_data_file.close()"
      ],
      "metadata": {
        "id": "wGWEZp6l4dsZ"
      },
      "execution_count": null,
      "outputs": []
    },
    {
      "cell_type": "markdown",
      "source": [
        "We will use a custom function to convert the data into a set of inputs and targetdata. <br>\n",
        "It is also important the every grayscale value gets normalized. <br>\n",
        "Every target label will we converted to an array with 0.01 and 0.99s. E.gg label == 7 => targets[7] == 0.99, all other 0.01 <br>"
      ],
      "metadata": {
        "id": "O51ZukyM6NTE"
      }
    },
    {
      "cell_type": "code",
      "source": [
        "def read_data(data_list):\n",
        "    inputs = []\n",
        "    targets = []\n",
        "    skipfirst = True\n",
        "\n",
        "    for data in data_list:\n",
        "        if skipfirst:\n",
        "            skipfirst = False\n",
        "            continue\n",
        "        data = data.split(',')\n",
        "        inputs.append(data[1:])\n",
        "        targets.append(int(data[0]))\n",
        "\n",
        "    inputs = np.array(inputs, dtype=float)\n",
        "    return inputs, np.array(targets)\n",
        "\n",
        "def normalize(inputs):\n",
        "    for i in range(len(inputs)):\n",
        "        for j in range(len(inputs[i])):\n",
        "            if inputs[i][j] != 0:\n",
        "                inputs[i][j] = inputs[i][j]/255\n",
        "            else:\n",
        "                inputs[i][j] = 0.01\n",
        "    return inputs\n",
        "\n",
        "def change_target_array(targets, output_n):\n",
        "    target_list= []\n",
        "    for target in targets:\n",
        "        target_list.append([0.01 for _ in range(output_n)])\n",
        "        target_list[-1][target] = 0.99 \n",
        "    return np.array(target_list)"
      ],
      "metadata": {
        "id": "uhL_qYbR6VPW"
      },
      "execution_count": null,
      "outputs": []
    },
    {
      "cell_type": "code",
      "source": [
        "inputs, targets = read_data(training_data_list)\n",
        "targets = change_target_array(targets, 10)\n",
        "test_inputs, test_targets = read_data(test_data_list)"
      ],
      "metadata": {
        "id": "U_wX-LQW6z76"
      },
      "execution_count": 49,
      "outputs": []
    },
    {
      "cell_type": "markdown",
      "source": [
        "# Implement Sigmoid functions\n",
        "Lets start with the base function: <br>\n",
        "On a given value x we can use numpy's np.exp() function to compute the Sigmoid function on it.\n"
      ],
      "metadata": {
        "id": "qlQCysQ15Vac"
      }
    },
    {
      "cell_type": "code",
      "source": [
        "def sigmoid(x):\n",
        "  return 1/(1+np.exp(-x))\n",
        "\n",
        "print(sigmoid(1.545))"
      ],
      "metadata": {
        "id": "gQ76KUy45bAj"
      },
      "execution_count": null,
      "outputs": []
    },
    {
      "cell_type": "markdown",
      "source": [
        "The derivative can be calculated similarly by utilizing the base function we have already created"
      ],
      "metadata": {
        "id": "C38eZbaj5hbz"
      }
    },
    {
      "cell_type": "code",
      "source": [
        "def sigmoid_derivative(x):\n",
        "  return sigmoid(x) * (1- sigmoid(x))\n",
        "\n",
        "print(sigmoid_derivative(1.545))"
      ],
      "metadata": {
        "id": "j3vrpi-e5deh"
      },
      "execution_count": null,
      "outputs": []
    },
    {
      "cell_type": "markdown",
      "source": [
        "# Build the model\n",
        "Building the neural network requires configuring our two layers."
      ],
      "metadata": {
        "id": "NDrJKlnd7sml"
      }
    },
    {
      "cell_type": "code",
      "source": [
        "input_nodes = 784\n",
        "hidden_nodes = 200\n",
        "output_nodes = 10"
      ],
      "metadata": {
        "id": "oeGlEXCp9PeV"
      },
      "execution_count": null,
      "outputs": []
    },
    {
      "cell_type": "markdown",
      "source": [
        "## The input-layer\n",
        "Since we have 784 perceptrons on the input-layer connected with weighted connections to the hidden layer, these weights can be modelled as 200x784 matrix W_ih. The individual weights are indexed as w_i_j and refer to the connection of perceptron i to perceptron j in the following layer. <br>\n",
        "![image.png](data:image/png;base64,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)"
      ],
      "metadata": {
        "id": "NDKMTDRY8OrH"
      }
    },
    {
      "cell_type": "code",
      "source": [
        "weights_input_to_hidden = np.random.rand(input_nodes,hidden_nodes)"
      ],
      "metadata": {
        "id": "BO7yfMn78vkD"
      },
      "execution_count": null,
      "outputs": []
    },
    {
      "cell_type": "markdown",
      "source": [
        "##The hidden-layer\n",
        "The same accounts for the weights for the connections of the hidden layer to the output layer. This can be modeled as a 10x200-Matrix W_ho: <br>\n",
        "![image.png](data:image/png;base64,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)"
      ],
      "metadata": {
        "id": "bUs1xKA087Ed"
      }
    },
    {
      "cell_type": "code",
      "source": [
        "weights_output_to_hidden = np.random.rand(hidden_nodes,output_nodes)"
      ],
      "metadata": {
        "id": "UjoXCrt-9I5G"
      },
      "execution_count": null,
      "outputs": []
    },
    {
      "cell_type": "markdown",
      "source": [
        "# Train the model\n",
        "As in task 2.1, this network can be trained the same way by “thinking” n-times and compare the final outputs (O) with the target data (T). The difference is, that the error of the hiddenlayer also needs to be backpropagated, and we have two weight matrices that need to be updated in each step of the training process. Further more, we are going to introduce a “learning rate” factor (LR) which allows more fine tuning for the learning process. <br>\n",
        "<br>\n",
        "We will bundle the code in a *NeuralNetwork* class. <br>\n",
        "Training is performed by calling the ```model.fit``` method: <br>\n",
        "\n",
        "1.   Feed the training data to the model using ```inputs```\n",
        "2.   The model learns to associate image and labels\n",
        "3.   The ```epochs=50``` parameter limit training to 50 full iteratinos of the training dataset\n",
        "\n"
      ],
      "metadata": {
        "id": "zIGyLCZq9wfF"
      }
    },
    {
      "cell_type": "code",
      "source": [
        "class NeuralNetwork:\n",
        "    def __init__(self, input_nodes, hidden_nodes, output_nodes, learning_rate):\n",
        "        self.input_nodes = input_nodes\n",
        "        self.hidden_nodes = hidden_nodes\n",
        "        self.output_nodes = output_nodes\n",
        "        self.learning_rate = learning_rate\n",
        "        # Initialize weights \n",
        "        self.weights_input_to_hidden = np.random.rand(self.input_nodes,self.hidden_nodes)\n",
        "        self.weights_output_to_hidden = np.random.rand(self.hidden_nodes,self.output_nodes)\n",
        "\n",
        "    \n",
        "    def sigmoid(self, x):\n",
        "        return 1/(1+np.exp(-x))\n",
        "    \n",
        "    def sigmoid_derivative(self, x):\n",
        "        return self.sigmoid(x)*(1-self.sigmoid(x))  \n",
        "    \n",
        "    def think(self, inputs):\n",
        "        hidden_inputs = np.dot(inputs, self.weights_input_to_hidden)\n",
        "        hidden_outputs = self.sigmoid(hidden_inputs)\n",
        "        final_inputs = np.dot(hidden_outputs, self.weights_output_to_hidden)\n",
        "        final_outputs = self.sigmoid(final_inputs)\n",
        "        return hidden_outputs, final_outputs\n",
        "\n",
        "    def fit(self, inputs, targets, epochs):\n",
        "        for i in range(epochs):\n",
        "            # Forwardpropagation\n",
        "            hidden_outputs, final_outputs = self.think(inputs)\n",
        "            # Backwardpropagation\n",
        "            output_errors = targets - final_outputs\n",
        "            hidden_errors = np.dot(output_errors, self.weights_output_to_hidden.transpose())\n",
        "            self.weights_output_to_hidden += self.learning_rate * np.dot(hidden_outputs.transpose(), output_errors * self.sigmoid_derivative(final_outputs))\n",
        "            self.weights_input_to_hidden += self.learning_rate * np.dot(inputs.transpose(), hidden_errors * self.sigmoid_derivative(hidden_outputs))\n",
        "\n",
        "    \n",
        "    def predict(self, input):\n",
        "        hidden_outputs, final_outputs = self.think([input])\n",
        "        return final_outputs"
      ],
      "metadata": {
        "id": "QAHPDNRd96z2"
      },
      "execution_count": 50,
      "outputs": []
    },
    {
      "cell_type": "code",
      "source": [
        "n = NeuralNetwork(784, 200, 10, 0.1)\n",
        "n.fit(normalize(deepcopy(inputs[:100])), deepcopy(targets[:100]), 500) # Train the model"
      ],
      "metadata": {
        "id": "ux3g44UN_Qvg",
        "colab": {
          "base_uri": "https://localhost:8080/"
        },
        "outputId": "5502da05-1a3f-4e0b-961c-f4a12b05e8a8"
      },
      "execution_count": 51,
      "outputs": [
        {
          "output_type": "stream",
          "name": "stderr",
          "text": [
            "/usr/local/lib/python3.7/dist-packages/ipykernel_launcher.py:13: RuntimeWarning: overflow encountered in exp\n",
            "  del sys.path[0]\n"
          ]
        }
      ]
    },
    {
      "cell_type": "markdown",
      "source": [
        "# Make predictions and explore\n",
        "With the model trained, we can use it to make predictions about some images.\n",
        "<br><br>\n",
        "**Quick tip**: If you want to predict another number be sure to read the data again. for some reason the input arrays get modified while training, so that is a quick fix for that."
      ],
      "metadata": {
        "id": "_jZprGJlAtMQ"
      }
    },
    {
      "cell_type": "code",
      "source": [
        "print(\"plotting image: \")\n",
        "random_index = random.randint(0,1000)\n",
        "image_array = np.asfarray(deepcopy(test_inputs[random_index])).reshape((28,28))\n",
        "plt.imshow(image_array,cmap='Greys', interpolation='None')\n",
        "plt.show(block = True)"
      ],
      "metadata": {
        "colab": {
          "base_uri": "https://localhost:8080/",
          "height": 282
        },
        "id": "PTF7cYXm_p16",
        "outputId": "c9f59f44-4997-4ff7-ee74-a08f78a09672"
      },
      "execution_count": 66,
      "outputs": [
        {
          "output_type": "stream",
          "name": "stdout",
          "text": [
            "plotting image: \n"
          ]
        },
        {
          "output_type": "display_data",
          "data": {
            "text/plain": [
              "<Figure size 432x288 with 1 Axes>"
            ],
            "image/png": "[encoded data removed]"
          },
          "metadata": {
            "needs_background": "light"
          }
        }
      ]
    },
    {
      "cell_type": "code",
      "source": [
        "test = normalize([deepcopy(test_inputs[random_index])])\n",
        "result = n.predict(test)\n",
        "print(result)\n",
        "print(\"Predicted number:\", np.argmax(result))"
      ],
      "metadata": {
        "colab": {
          "base_uri": "https://localhost:8080/"
        },
        "id": "zuIo5wfU_k15",
        "outputId": "4fc5d35f-caad-416e-d0f0-b30e4015ff7d"
      },
      "execution_count": 67,
      "outputs": [
        {
          "output_type": "stream",
          "name": "stdout",
          "text": [
            "[[[2.98262447e-04 4.00294574e-03 1.49071298e-02 7.13654991e-02\n",
            "   4.83343451e-02 8.54997634e-03 9.74080093e-01 5.53411726e-04\n",
            "   4.31455446e-03 2.51482643e-03]]]\n",
            "Predicted number: 6\n"
          ]
        }
      ]
    }
  ]
}